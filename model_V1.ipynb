{
 "cells": [
  {
   "cell_type": "code",
   "execution_count": 4,
   "metadata": {},
   "outputs": [],
   "source": [
    "import tensorflow as tf\n",
    "import numpy as np\n",
    "import pandas as pd\n",
    "import matplotlib.pyplot as pl\n",
    "from keras import models\n",
    "from keras import layers\n",
    "from keras import metrics\n",
    "from sklearn.model_selection import train_test_split\n",
    "np.random.seed(1)\n",
    "tf.random.set_seed(1)"
   ]
  },
  {
   "cell_type": "code",
   "execution_count": 5,
   "metadata": {},
   "outputs": [],
   "source": [
    "#inporting all the data\n",
    "remote_sensing_reflectance = pd.read_csv(\"all_habs_rrs_only.csv\").fillna(0)\n",
    "shatonela_diatom = pd.read_csv(\"all_concatinated_data.csv\", low_memory=False)\n",
    "karenia = pd.read_csv(\"all_karenia_data.csv\", low_memory=False)  # import karenia data from the server here"
   ]
  },
  {
   "cell_type": "code",
   "execution_count": 6,
   "metadata": {},
   "outputs": [],
   "source": [
    "# combining shatonela diatom and karenia data together\n",
    "akashivo_data = pd.concat([shatonela_diatom, karenia], axis=0)\n",
    "akashivo_data.rename(columns ={'緯度':'lat', '経度':'lon', '採取日':'date', 'シャットネラ属':'shatonela', '珪藻類合計':'diatom', 'カレニア　ミキモトイ':'karenia'} , inplace = True)\n",
    "akashivo_data.drop(['Unnamed: 4', '赤潮細胞数の単位', '採水層', '地点名'], inplace=True, axis=1)"
   ]
  },
  {
   "cell_type": "code",
   "execution_count": 7,
   "metadata": {},
   "outputs": [
    {
     "name": "stdout",
     "output_type": "stream",
     "text": [
      "0             0.0\n",
      "1             0.0\n",
      "2             0.0\n",
      "3             0.0\n",
      "4             0.0\n",
      "           ...   \n",
      "253649     2040.0\n",
      "253650    80500.0\n",
      "253651    80500.0\n",
      "253652    26750.0\n",
      "253653    26750.0\n",
      "Name: karenia, Length: 253654, dtype: float64\n"
     ]
    }
   ],
   "source": [
    "# connect the two dataframes with lat logn and date\n",
    "merged_data = pd.merge(akashivo_data, remote_sensing_reflectance, on=[\"lat\", \"lon\", \"date\"], how = 'left').fillna(0)\n",
    "merged_data.drop(['Unnamed: 0.1', 'Unnamed: 0', 'identifier', 'file_status', 'download_url', 'preview_url', 'resolution'], inplace=True, axis=1)\n",
    "print(merged_data['karenia'])"
   ]
  },
  {
   "cell_type": "code",
   "execution_count": 8,
   "metadata": {},
   "outputs": [],
   "source": [
    "# filder all the duplicates\n",
    "columns_to_check = ['shatonela', 'diatom', 'karenia', 'Rrs_380', 'Rrs_412', 'Rrs_443', 'Rrs_490', 'Rrs_530', 'Rrs_565', 'Rrs_670']\n",
    "filtered_df = merged_data[~merged_data.duplicated(subset=columns_to_check, keep='first')]\n",
    "filtered_df = filtered_df[~(filtered_df[['Rrs_380', 'Rrs_412', 'Rrs_443', 'Rrs_490', 'Rrs_530', 'Rrs_565', 'Rrs_670']] <= 0).any(axis=1)]"
   ]
  },
  {
   "cell_type": "code",
   "execution_count": 9,
   "metadata": {},
   "outputs": [
    {
     "name": "stdout",
     "output_type": "stream",
     "text": [
      "7355\n"
     ]
    }
   ],
   "source": [
    "# modifing the data to the correct form\n",
    "output_colums = filtered_df[['shatonela', 'diatom', 'karenia']]\n",
    "input_colums = filtered_df[['Rrs_380', 'Rrs_412', 'Rrs_443', 'Rrs_490', 'Rrs_530', 'Rrs_565', 'Rrs_670']]\n",
    "print(len(input_colums))"
   ]
  },
  {
   "cell_type": "code",
   "execution_count": 10,
   "metadata": {},
   "outputs": [
    {
     "name": "stderr",
     "output_type": "stream",
     "text": [
      "/Library/Frameworks/Python.framework/Versions/3.10/lib/python3.10/site-packages/pandas/core/internals/blocks.py:366: RuntimeWarning: divide by zero encountered in log\n",
      "  result = func(self.values, **kwargs)\n"
     ]
    }
   ],
   "source": [
    "# putting Rrs thrue a log\n",
    "x = np.log(output_colums)"
   ]
  },
  {
   "cell_type": "code",
   "execution_count": 11,
   "metadata": {},
   "outputs": [],
   "source": [
    "# converts all the values in to 1es and 0es\n",
    "y = (output_colums > 0).any(axis=1)"
   ]
  },
  {
   "cell_type": "code",
   "execution_count": 12,
   "metadata": {},
   "outputs": [],
   "source": [
    "# randomaizing test and training data\n",
    "x_train, x_test, y_train, y_test = train_test_split(x, y, test_size=0.3)"
   ]
  },
  {
   "cell_type": "code",
   "execution_count": 13,
   "metadata": {},
   "outputs": [],
   "source": [
    "def buld_model(model):\n",
    "    model = models.Sequential()\n",
    "\n",
    "    model.add(layers.Dense(128, activation=\"relu\", input_shape = ()))\n",
    "    model.add(layers.Dense(128, activation=\"relu\", input_shape = ()))\n",
    "    model.add(layers.Dense(128, activation=\"relu\", input_shape = ()))\n",
    "    model.add(layers.Dense(128, activation=\"relu\", input_shape = ()))\n",
    "    model.add(layers.Dense(1, activation=\"sigmoid\"))\n",
    "\n",
    "    model.compile(optimizer='adam',\n",
    "                loss='binary_crossentropy', # need to change loss function\n",
    "                metrics=['accuracy'])\n",
    "    \n",
    "    return model"
   ]
  },
  {
   "cell_type": "code",
   "execution_count": null,
   "metadata": {},
   "outputs": [],
   "source": [
    "\n"
   ]
  }
 ],
 "metadata": {
  "kernelspec": {
   "display_name": "Python 3",
   "language": "python",
   "name": "python3"
  },
  "language_info": {
   "codemirror_mode": {
    "name": "ipython",
    "version": 3
   },
   "file_extension": ".py",
   "mimetype": "text/x-python",
   "name": "python",
   "nbconvert_exporter": "python",
   "pygments_lexer": "ipython3",
   "version": "3.10.11"
  }
 },
 "nbformat": 4,
 "nbformat_minor": 2
}
